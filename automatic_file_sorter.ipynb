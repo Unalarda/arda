{
 "cells": [
  {
   "cell_type": "code",
   "execution_count": 4,
   "metadata": {},
   "outputs": [],
   "source": [
    "import os, shutil"
   ]
  },
  {
   "cell_type": "code",
   "execution_count": 14,
   "metadata": {},
   "outputs": [],
   "source": [
    "path  = r\"C:/Users/ardau/OneDrive/Documents\""
   ]
  },
  {
   "cell_type": "code",
   "execution_count": 15,
   "metadata": {},
   "outputs": [
    {
     "data": {
      "text/plain": [
       "['Activity Dataset_ Weeks 3-4.xlsx',\n",
       " 'Analytics vs Science.docx',\n",
       " 'archive',\n",
       " 'archive.zip',\n",
       " 'Arda - Merchandising assignment_Template open questions DONE.docx',\n",
       " 'Arda Unal Resume - Hilton Digital Strategy Support Analyst.docx',\n",
       " 'Arda Unal Resume 1.docx',\n",
       " 'Arda Unal Resume Marketing Analytics.docx',\n",
       " 'Arda Unal Resume Marketing.docx',\n",
       " 'Arda Unal Resume Product Planner.docx',\n",
       " 'Arda Unal Resume Sales.docx',\n",
       " 'Arda Unal Resume.docx',\n",
       " 'Cover Letter - BPA Freddie Mac.docx',\n",
       " 'Cover Letter - KPMG US Associate, Key Account Marketing.docx',\n",
       " 'Cover Letter - Marketing Specialist l Talentify.io.docx',\n",
       " 'Cover Letter - Sales Research Business Analyst Honda.docx',\n",
       " 'Cover Letter - Technology Specialist, Lifecycle Business Dev.docx',\n",
       " 'Covid 19 Outbreak.twb',\n",
       " 'Covid Outbreak Workbook.twb',\n",
       " 'covid19-us-marchseptember-metadata.json',\n",
       " 'Custom Office Templates',\n",
       " 'Dashboard 1.png',\n",
       " 'DATA',\n",
       " 'desktop.ini',\n",
       " 'Honda Cover Letter 7-15.docx',\n",
       " 'Honda Cover Letter 7-22.docx',\n",
       " 'IDVS time log 1-9 and 1-12.xlsx',\n",
       " 'IDVS time log 1-9-24.xlsx',\n",
       " 'IDVS time log.xlsx',\n",
       " 'IMG_0872 (1).HEIC',\n",
       " 'IMG_0872 (1).jpg',\n",
       " 'IMG_0872.jpg.HEIC',\n",
       " 'League of Legends',\n",
       " 'Marketing_Strategy.ipynb',\n",
       " 'Merchandising Assignment EXCEL Changes- Arda DONE.docx',\n",
       " 'MKTG437_SPIRELLA assignment FA2023_Arda (December 11) DONE.xlsx',\n",
       " 'MKTG437_SPIRELLA assignment FA2023_Arda (Novemver 17).xlsx',\n",
       " 'My Tableau Repository',\n",
       " 'password.txt',\n",
       " 'Profile pic.JPG',\n",
       " 'Project Ideas.txt',\n",
       " 'reciept for boot.pdf',\n",
       " 'Resume - Hilton DSSA.docx',\n",
       " 'RTS EXCEL 1 arda.xlsx',\n",
       " 'Scan - XR HAND 3+ VW LEFT - Jun 17, 2022.PDF',\n",
       " 'SDN.twbx',\n",
       " 'Sequence - Sequence #1.Archive',\n",
       " 'TableauPublicDesktop-64bit-2024-2-2.exe',\n",
       " 'Zoom']"
      ]
     },
     "execution_count": 15,
     "metadata": {},
     "output_type": "execute_result"
    }
   ],
   "source": [
    "os.listdir(path)"
   ]
  },
  {
   "cell_type": "code",
   "execution_count": 16,
   "metadata": {},
   "outputs": [],
   "source": [
    "folder_names = ['csv files', 'image files', 'text files']\n",
    "\n",
    "for loop in range(0,3):\n",
    "    if not os.path.exists(path + folder_names[loop]):\n",
    "        os.makedirs((path + folder_names[loop]))"
   ]
  },
  {
   "cell_type": "code",
   "execution_count": null,
   "metadata": {},
   "outputs": [],
   "source": []
  }
 ],
 "metadata": {
  "kernelspec": {
   "display_name": ".venv",
   "language": "python",
   "name": "python3"
  },
  "language_info": {
   "codemirror_mode": {
    "name": "ipython",
    "version": 3
   },
   "file_extension": ".py",
   "mimetype": "text/x-python",
   "name": "python",
   "nbconvert_exporter": "python",
   "pygments_lexer": "ipython3",
   "version": "3.12.5"
  }
 },
 "nbformat": 4,
 "nbformat_minor": 2
}
